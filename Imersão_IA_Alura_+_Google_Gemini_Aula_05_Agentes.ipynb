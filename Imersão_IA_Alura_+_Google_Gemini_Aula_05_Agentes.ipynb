{
  "nbformat": 4,
  "nbformat_minor": 0,
  "metadata": {
    "colab": {
      "provenance": [],
      "include_colab_link": true
    },
    "kernelspec": {
      "name": "python3",
      "display_name": "Python 3"
    },
    "language_info": {
      "name": "python"
    }
  },
  "cells": [
    {
      "cell_type": "markdown",
      "metadata": {
        "id": "view-in-github",
        "colab_type": "text"
      },
      "source": [
        "<a href=\"https://colab.research.google.com/github/tflavio/imersao-alura-gemini/blob/main/Imers%C3%A3o_IA_Alura_%2B_Google_Gemini_Aula_05_Agentes.ipynb\" target=\"_parent\"><img src=\"https://colab.research.google.com/assets/colab-badge.svg\" alt=\"Open In Colab\"/></a>"
      ]
    },
    {
      "cell_type": "code",
      "source": [
        "%pip -q install google-genai"
      ],
      "metadata": {
        "id": "UCCbECexLk_h"
      },
      "execution_count": 1,
      "outputs": []
    },
    {
      "cell_type": "code",
      "source": [
        "# Configura a API Key do Google Gemini\n",
        "\n",
        "import os\n",
        "from google.colab import userdata\n",
        "\n",
        "os.environ[\"GOOGLE_API_KEY\"] = userdata.get('GOOGLE_API_KEY')"
      ],
      "metadata": {
        "id": "NfCqHo1tLk8P"
      },
      "execution_count": 2,
      "outputs": []
    },
    {
      "cell_type": "code",
      "source": [
        "# Configura o cliente da SDK do Gemini\n",
        "\n",
        "from google import genai\n",
        "\n",
        "client = genai.Client()\n",
        "\n",
        "MODEL_ID = \"gemini-2.0-flash\""
      ],
      "metadata": {
        "id": "bV4w0H5TLk5g"
      },
      "execution_count": 3,
      "outputs": []
    },
    {
      "cell_type": "code",
      "source": [
        "# Pergunta ao Gemini uma informação mais recente que seu conhecimento\n",
        "\n",
        "from IPython.display import HTML, Markdown\n",
        "\n",
        "# Perguntar pro modelo quando é a próxima imersão de IA ###############################################\n",
        "resposta = client.models.generate_content(\n",
        "    model=MODEL_ID\n",
        "   ,contents='Quando é a próxima Imersão IA com Google Gemini da Alura?'\n",
        "   ,config={\"tools\": [{\"google_search\": {}}]}\n",
        ")\n",
        "\n",
        "# Exibe a resposta na tela\n",
        "display(Markdown(f\"Resposta:\\n {resposta.text}\"))"
      ],
      "metadata": {
        "id": "HwVP7Xi34Zuw",
        "colab": {
          "base_uri": "https://localhost:8080/",
          "height": 46
        },
        "outputId": "78c6f283-2c4c-4fd5-a3ad-8896b135601c"
      },
      "execution_count": 6,
      "outputs": [
        {
          "output_type": "display_data",
          "data": {
            "text/plain": [
              "<IPython.core.display.Markdown object>"
            ],
            "text/markdown": "Resposta:\n A próxima Imersão IA com Google Gemini da Alura aconteceu de 12 a 16 de maio de 2025. As inscrições estiveram abertas até o dia 11 de maio."
          },
          "metadata": {}
        }
      ]
    },
    {
      "cell_type": "code",
      "source": [
        "# Pergunta ao Gemini uma informação utilizando a busca do Google como contexto\n",
        "\n",
        "response = client.models.generate_content(\n",
        "    model=MODEL_ID,\n",
        "    contents='Quando é a próxima Imersão IA com Google Gemini da Alura?',\n",
        "    # Inserir a tool de busca do Google ###############################################\n",
        ")\n",
        "\n",
        "# Exibe a resposta na tela\n",
        "display(Markdown(f\"Resposta:\\n {response.text}\"))"
      ],
      "metadata": {
        "id": "yXaZd7iZ4ftw"
      },
      "execution_count": null,
      "outputs": []
    },
    {
      "cell_type": "code",
      "source": [
        "# Exibe a busca\n",
        "print(f\"Busca realizada: {response.candidates[0].grounding_metadata.web_search_queries}\")\n",
        "# Exibe as URLs nas quais ele se baseou\n",
        "print(f\"Páginas utilizadas na resposta: {', '.join([site.web.title for site in response.candidates[0].grounding_metadata.grounding_chunks])}\")\n",
        "print()\n",
        "display(HTML(response.candidates[0].grounding_metadata.search_entry_point.rendered_content))"
      ],
      "metadata": {
        "id": "xHSNlTd84heJ"
      },
      "execution_count": null,
      "outputs": []
    },
    {
      "cell_type": "code",
      "source": [
        "# Instalar Framework ADK de agentes do Google ################################################\n",
        "%pip -q install google-adk"
      ],
      "metadata": {
        "id": "hvZ3UnPI4jhJ",
        "colab": {
          "base_uri": "https://localhost:8080/"
        },
        "outputId": "9e7a7a9c-4296-4a14-b52e-5eea732b4499"
      },
      "execution_count": 7,
      "outputs": [
        {
          "output_type": "stream",
          "name": "stdout",
          "text": [
            "\u001b[?25l   \u001b[90m━━━━━━━━━━━━━━━━━━━━━━━━━━━━━━━━━━━━━━━━\u001b[0m \u001b[32m0.0/1.2 MB\u001b[0m \u001b[31m?\u001b[0m eta \u001b[36m-:--:--\u001b[0m\r\u001b[2K   \u001b[91m━━━━━━━━\u001b[0m\u001b[91m╸\u001b[0m\u001b[90m━━━━━━━━━━━━━━━━━━━━━━━━━━━━━━━\u001b[0m \u001b[32m0.3/1.2 MB\u001b[0m \u001b[31m7.5 MB/s\u001b[0m eta \u001b[36m0:00:01\u001b[0m\r\u001b[2K   \u001b[91m━━━━━━━━━━━━━━━━━━━━━━━━━━━━━━━━━━━━━━━\u001b[0m\u001b[91m╸\u001b[0m \u001b[32m1.2/1.2 MB\u001b[0m \u001b[31m17.6 MB/s\u001b[0m eta \u001b[36m0:00:01\u001b[0m\r\u001b[2K   \u001b[90m━━━━━━━━━━━━━━━━━━━━━━━━━━━━━━━━━━━━━━━━\u001b[0m \u001b[32m1.2/1.2 MB\u001b[0m \u001b[31m14.0 MB/s\u001b[0m eta \u001b[36m0:00:00\u001b[0m\n",
            "\u001b[?25h\u001b[?25l   \u001b[90m━━━━━━━━━━━━━━━━━━━━━━━━━━━━━━━━━━━━━━━━\u001b[0m \u001b[32m0.0/232.1 kB\u001b[0m \u001b[31m?\u001b[0m eta \u001b[36m-:--:--\u001b[0m\r\u001b[2K   \u001b[90m━━━━━━━━━━━━━━━━━━━━━━━━━━━━━━━━━━━━━━━━\u001b[0m \u001b[32m232.1/232.1 kB\u001b[0m \u001b[31m20.1 MB/s\u001b[0m eta \u001b[36m0:00:00\u001b[0m\n",
            "\u001b[2K   \u001b[90m━━━━━━━━━━━━━━━━━━━━━━━━━━━━━━━━━━━━━━━━\u001b[0m \u001b[32m95.2/95.2 kB\u001b[0m \u001b[31m9.5 MB/s\u001b[0m eta \u001b[36m0:00:00\u001b[0m\n",
            "\u001b[2K   \u001b[90m━━━━━━━━━━━━━━━━━━━━━━━━━━━━━━━━━━━━━━━━\u001b[0m \u001b[32m217.1/217.1 kB\u001b[0m \u001b[31m20.0 MB/s\u001b[0m eta \u001b[36m0:00:00\u001b[0m\n",
            "\u001b[2K   \u001b[90m━━━━━━━━━━━━━━━━━━━━━━━━━━━━━━━━━━━━━━━━\u001b[0m \u001b[32m334.1/334.1 kB\u001b[0m \u001b[31m25.7 MB/s\u001b[0m eta \u001b[36m0:00:00\u001b[0m\n",
            "\u001b[2K   \u001b[90m━━━━━━━━━━━━━━━━━━━━━━━━━━━━━━━━━━━━━━━━\u001b[0m \u001b[32m125.1/125.1 kB\u001b[0m \u001b[31m12.0 MB/s\u001b[0m eta \u001b[36m0:00:00\u001b[0m\n",
            "\u001b[2K   \u001b[90m━━━━━━━━━━━━━━━━━━━━━━━━━━━━━━━━━━━━━━━━\u001b[0m \u001b[32m65.8/65.8 kB\u001b[0m \u001b[31m5.7 MB/s\u001b[0m eta \u001b[36m0:00:00\u001b[0m\n",
            "\u001b[2K   \u001b[90m━━━━━━━━━━━━━━━━━━━━━━━━━━━━━━━━━━━━━━━━\u001b[0m \u001b[32m119.0/119.0 kB\u001b[0m \u001b[31m10.0 MB/s\u001b[0m eta \u001b[36m0:00:00\u001b[0m\n",
            "\u001b[2K   \u001b[90m━━━━━━━━━━━━━━━━━━━━━━━━━━━━━━━━━━━━━━━━\u001b[0m \u001b[32m194.9/194.9 kB\u001b[0m \u001b[31m19.4 MB/s\u001b[0m eta \u001b[36m0:00:00\u001b[0m\n",
            "\u001b[2K   \u001b[90m━━━━━━━━━━━━━━━━━━━━━━━━━━━━━━━━━━━━━━━━\u001b[0m \u001b[32m62.5/62.5 kB\u001b[0m \u001b[31m5.3 MB/s\u001b[0m eta \u001b[36m0:00:00\u001b[0m\n",
            "\u001b[2K   \u001b[90m━━━━━━━━━━━━━━━━━━━━━━━━━━━━━━━━━━━━━━━━\u001b[0m \u001b[32m103.3/103.3 kB\u001b[0m \u001b[31m8.6 MB/s\u001b[0m eta \u001b[36m0:00:00\u001b[0m\n",
            "\u001b[2K   \u001b[90m━━━━━━━━━━━━━━━━━━━━━━━━━━━━━━━━━━━━━━━━\u001b[0m \u001b[32m44.4/44.4 kB\u001b[0m \u001b[31m3.8 MB/s\u001b[0m eta \u001b[36m0:00:00\u001b[0m\n",
            "\u001b[2K   \u001b[90m━━━━━━━━━━━━━━━━━━━━━━━━━━━━━━━━━━━━━━━━\u001b[0m \u001b[32m72.0/72.0 kB\u001b[0m \u001b[31m6.0 MB/s\u001b[0m eta \u001b[36m0:00:00\u001b[0m\n",
            "\u001b[?25h"
          ]
        }
      ]
    },
    {
      "cell_type": "code",
      "execution_count": 8,
      "metadata": {
        "id": "aePV2bdfDeoW"
      },
      "outputs": [],
      "source": [
        "from google.adk.agents import Agent\n",
        "from google.adk.runners import Runner\n",
        "from google.adk.sessions import InMemorySessionService\n",
        "from google.adk.tools import google_search\n",
        "from google.genai import types  # Para criar conteúdos (Content e Part)\n",
        "from datetime import date\n",
        "import textwrap # Para formatar melhor a saída de texto\n",
        "from IPython.display import display, Markdown # Para exibir texto formatado no Colab\n",
        "import requests # Para fazer requisições HTTP\n",
        "import warnings\n",
        "\n",
        "warnings.filterwarnings(\"ignore\")"
      ]
    },
    {
      "cell_type": "code",
      "source": [
        "# Função auxiliar que envia uma mensagem para um agente via Runner e retorna a resposta final\n",
        "def call_agent(agent: Agent, message_text: str) -> str:\n",
        "    # Cria um serviço de sessão em memória\n",
        "    session_service = InMemorySessionService()\n",
        "    # Cria uma nova sessão (você pode personalizar os IDs conforme necessário)\n",
        "    session = session_service.create_session(app_name=agent.name, user_id=\"user1\", session_id=\"session1\")\n",
        "    # Cria um Runner para o agente\n",
        "    runner = Runner(agent=agent, app_name=agent.name, session_service=session_service)\n",
        "    # Cria o conteúdo da mensagem de entrada\n",
        "    content = types.Content(role=\"user\", parts=[types.Part(text=message_text)])\n",
        "\n",
        "    final_response = \"\"\n",
        "    # Itera assincronamente pelos eventos retornados durante a execução do agente\n",
        "    for event in runner.run(user_id=\"user1\", session_id=\"session1\", new_message=content):\n",
        "        if event.is_final_response():\n",
        "          for part in event.content.parts:\n",
        "            if part.text is not None:\n",
        "              final_response += part.text\n",
        "              final_response += \"\\n\"\n",
        "    return final_response"
      ],
      "metadata": {
        "id": "_xP4lWhsS5ko"
      },
      "execution_count": 9,
      "outputs": []
    },
    {
      "cell_type": "code",
      "source": [
        "# Função auxiliar para exibir texto formatado em Markdown no Colab\n",
        "def to_markdown(text):\n",
        "  text = text.replace('•', '  *')\n",
        "  return Markdown(textwrap.indent(text, '> ', predicate=lambda _: True))"
      ],
      "metadata": {
        "id": "8dosiodaxfFR"
      },
      "execution_count": 10,
      "outputs": []
    },
    {
      "cell_type": "code",
      "source": [
        "##########################################\n",
        "# --- Agente 1: Buscador de Notícias --- #\n",
        "##########################################\n",
        "def agente_buscador(topico, data_de_hoje):\n",
        "    buscador = Agent(\n",
        "         name=\"agente_buscador\"\n",
        "        ,model=\"gemini-2.0-flash\"\n",
        "        ,instruction=\"\"\"\n",
        "        Você é um assistente de pesquisa. Sua tarefa é utilizar a ferramenta de busca do Google (google_search) para\n",
        "        para recuperar as últimas cinco notícias relevantes de lançamentos sobre o tópico abaixo. Verifique também o entusiasmo\n",
        "        e suas reações, comparando sempre as maiores relevâncias. Estes lançamentos devem ter no máximo trinta dias.\n",
        "        \"\"\"\n",
        "        ,description=\"Agente que busca informações no Google\"\n",
        "        ,tools=[google_search]\n",
        "    )\n",
        "    entrada_do_agente_buscador = f\"Tópico: {topico} \\nData de hoje: {data_de_hoje}\"\n",
        "    # Executa o agente\n",
        "    lancamentos = call_agent(buscador, entrada_do_agente_buscador)\n",
        "    return lancamentos"
      ],
      "metadata": {
        "id": "o8bqIfi_DyH8"
      },
      "execution_count": 17,
      "outputs": []
    },
    {
      "cell_type": "code",
      "source": [
        "################################################\n",
        "# --- Agente 2: Planejador de posts --- #\n",
        "################################################\n",
        "def agente_planejador(topico, lancamentos_buscados):\n",
        "    planejador = Agent(\n",
        "        name=\"agente_planejador\",\n",
        "        model=\"gemini-2.0-flash\",\n",
        "        # Inserir as instruções do Agente Planejador #################################################\n",
        "        instruction=\"\"\"\n",
        "        Você é um planejador de conteúdo , especialista em redes sociais. Com base nos lançamentos mais recentes e relevantes buscador, você deve:\n",
        "        Usar a ferramenta de busca do Google (google_search) para criar um plano sobre quais os pontos mais relavantes que poderiamos abordar em um post\n",
        "        sobre cada um deles. Voce também pode usar o (google_search) para encontrar mais informações sobre os temas e aprofundar. Ao final, você irá escolher\n",
        "        o tema mais relevante entre eles com base em suas pesquisas e retomar esse tema, seus pontos mais relevantes e um plano de assuntos a serem abordados\n",
        "        no post que seráescrito posteriormente.\n",
        "        \"\"\",\n",
        "        description=\"Agente que planeja posts\",\n",
        "        tools=[google_search]\n",
        "    )\n",
        "\n",
        "    entrada_do_agente_planejador = f\"Tópico:{topico}\\nLançamentos buscados: {lancamentos_buscados}\"\n",
        "    # Executa o agente\n",
        "    plano_do_post = call_agent(planejador, entrada_do_agente_planejador)\n",
        "    return plano_do_post"
      ],
      "metadata": {
        "id": "y3VO1uo5_ghO"
      },
      "execution_count": 13,
      "outputs": []
    },
    {
      "cell_type": "code",
      "source": [
        "######################################\n",
        "# --- Agente 3: Redator do Post --- #\n",
        "######################################\n",
        "def agente_redator(topico, plano_de_post):\n",
        "    redator = Agent(\n",
        "        name=\"agente_redator\",\n",
        "        #model=\"gemini-2.5-pro-preview-03-25\",\n",
        "        model=\"gemini-2.0-flash\",\n",
        "        instruction=\"\"\"\n",
        "            Você é um Redator Criativo especializado em criar posts virais para redes sociais.\n",
        "            Você escreve posts para a empresa Alura, a maior escola online de tecnologia do Brasil.\n",
        "            Utilize o tema fornecido no plano de post e os pontos mais relevantes fornecidos e, com base nisso,\n",
        "            escreva um rascunho de post para Instagram sobre o tema indicado.\n",
        "            O post deve ser engajador, informativo, com linguagem simples e incluir 2 a 4 hashtags no final.\n",
        "            \"\"\",\n",
        "        description=\"Agente redator de posts engajadores para Instagram\"\n",
        "    )\n",
        "    entrada_do_agente_redator = f\"Tópico: {topico}\\nPlano de post: {plano_de_post}\"\n",
        "    # Executa o agente\n",
        "    rascunho = call_agent(redator, entrada_do_agente_redator)\n",
        "    return rascunho"
      ],
      "metadata": {
        "id": "uOqlg2TRLVh1"
      },
      "execution_count": 26,
      "outputs": []
    },
    {
      "cell_type": "code",
      "source": [
        "##########################################\n",
        "# --- Agente 4: Revisor de Qualidade --- #\n",
        "##########################################\n",
        "def agente_revisor(topico, rascunho_gerado):\n",
        "    revisor = Agent(\n",
        "        name=\"agente_revisor\",\n",
        "        #model=\"gemini-2.5-pro-preview-03-25\",\n",
        "        model=\"gemini-2.0-flash\",\n",
        "        instruction=\"\"\"\n",
        "            Você é um Editor e Revisor de Conteúdo meticuloso, especializado em posts para redes sociais, com foco no Instagram.\n",
        "            Por ter um público jovem, entre 18 e 30 anos, use um tom de escrita adequado.\n",
        "            Revise o rascunho de post de Instagram abaixo sobre o tópico indicado, verificando clareza, concisão, correção e tom.\n",
        "            Se o rascunho estiver bom, responda apenas 'O rascunho está ótimo e pronto para publicar!'.\n",
        "            Caso haja problemas, aponte-os e sugira melhorias.\n",
        "            \"\"\",\n",
        "        description=\"Agente revisor de post para redes sociais.\"\n",
        "    )\n",
        "    entrada_do_agente_revisor = f\"Tópico: {topico}\\nRascunho: {rascunho_gerado}\"\n",
        "    # Executa o agente\n",
        "    texto_revisado = call_agent(revisor, entrada_do_agente_revisor)\n",
        "    return texto_revisado"
      ],
      "metadata": {
        "id": "_aTb1SdkLeT6"
      },
      "execution_count": 27,
      "outputs": []
    },
    {
      "cell_type": "code",
      "source": [
        "data_de_hoje = date.today().strftime(\"%d/%m/%Y\")\n",
        "\n",
        "print(\"🚀 Iniciando o Sistema de Criação de Posts para Instagram com 4 Agentes 🚀\")\n",
        "\n",
        "# --- Obter o Tópico do Usuário ---\n",
        "topico = input(\"❓ Por favor, digite o TÓPICO sobre o qual você quer criar o post de tendências: \")\n",
        "\n",
        "# Inserir lógica do sistema de agentes ################################################\n",
        "if not topico:\n",
        "  print(\"Digite o tópico\")\n",
        "else:\n",
        "  print(f\"Maravilha! Vamos criar o post sobre as novidades em {topico}\")\n",
        "\n",
        "  lancamentos_buscados = agente_buscador(topico, data_de_hoje)\n",
        "  print(\"\\n--- Resultado do Agente 1 (Buscador) ---\\n\")\n",
        "  display(to_markdown(lancamentos_buscados))\n",
        "  print(\"--------------------------------------------\")\n",
        "\n",
        "  plano_do_post = agente_planejador(topico, lancamentos_buscados)\n",
        "  print(\"\\n--- Resultado do Agente 2 (Planejador) ---\\n\")\n",
        "  display(to_markdown(plano_do_post))\n",
        "  print(\"--------------------------------------------\")\n",
        "\n",
        "  rascunho_de_post = agente_redator(topico, plano_do_post)\n",
        "  print(\"\\n--- Resultado do Agente 3 (Redator) ---\\n\")\n",
        "  display(to_markdown(rascunho_de_post))\n",
        "  print(\"--------------------------------------------\")\n",
        "\n",
        "  post_final = agente_revisor(topico, rascunho_de_post)\n",
        "  print(\"\\n--- Resultado do Agente 4 (Revisor) ---\\n\")\n",
        "  display(to_markdown(post_final))\n",
        "  print(\"--------------------------------------------\")"
      ],
      "metadata": {
        "id": "630ummxz4myx",
        "colab": {
          "base_uri": "https://localhost:8080/",
          "height": 1000
        },
        "outputId": "45adf88b-6551-4662-a1d6-63fa9db200e9"
      },
      "execution_count": 28,
      "outputs": [
        {
          "output_type": "stream",
          "name": "stdout",
          "text": [
            "🚀 Iniciando o Sistema de Criação de Posts para Instagram com 4 Agentes 🚀\n",
            "❓ Por favor, digite o TÓPICO sobre o qual você quer criar o post de tendências: Agentes de IA\n",
            "Maravilha! Vamos criar o post sobre as novidades em Agentes de IA\n",
            "\n",
            "--- Resultado do Agente 1 (Buscador) ---\n",
            "\n"
          ]
        },
        {
          "output_type": "display_data",
          "data": {
            "text/plain": [
              "<IPython.core.display.Markdown object>"
            ],
            "text/markdown": "> Certo, estou pronto para pesquisar as últimas notícias sobre lançamentos de Agentes de IA nos últimos 30 dias e analisar o entusiasmo e as reações.\n> \n> \n> Com certeza! Aqui estão as últimas notícias sobre lançamentos de Agentes de IA nos últimos 30 dias, com uma análise do entusiasmo e das reações:\n> \n> **Lançamentos e Novidades Recentes:**\n> \n> *   **IBM e Boomi:** A IBM tem se destacado com atualizações no watsonx Orchestrate, facilitando a integração e implantação de agentes de IA em áreas como RH, vendas e compras. A Boomi também lançou o Boomi Agentstudio para gerenciar o ciclo de vida dos agentes de IA em larga escala.\n> *   **Microsoft:** A Microsoft anunciou novos agentes no Microsoft Security Copilot para auxiliar em tarefas de segurança e TI, além dos agentes Researcher e Analyst para o Microsoft 365, focados em pesquisa e análise de dados.\n> *   **OpenAI:** A OpenAI lançou ferramentas para criação de agentes de IA corporativos e um novo agente chamado Codex, projetado para auxiliar no desenvolvimento de software.\n> *   **Outras empresas:** Empresas como Amazon, Google e Anthropic também anunciaram atualizações e lançamentos que visam revolucionar o cenário da inteligência artificial, com ferramentas inovadoras e integração avançada entre agentes.\n> *   **B3 (Brasil):** A bolsa de valores brasileira, B3, planeja massificar o uso de agentes de IA em seus produtos e serviços para transformar a vida dos clientes e facilitar o dia a dia dos colaboradores.\n> \n> **Entusiasmo e Reações:**\n> \n> *   **Transformação e Eficiência:** Há um grande entusiasmo em torno da capacidade dos agentes de IA de transformar a gestão de processos, simplificar tarefas, otimizar recursos e melhorar a eficiência operacional.\n> *   **Automação e Personalização:** A capacidade de automatizar tarefas complexas e personalizar experiências tem gerado grande interesse, com empresas buscando integrar agentes de IA em diversas áreas, desde atendimento ao cliente até análise de dados.\n> *   **Desafios e Oportunidades:** Apesar do entusiasmo, há também preocupações com desafios como garantir a transparência nos processos, manter a segurança dos dados e adaptar as equipes à nova realidade digital.\n> *   **Implementação Sólida:** A IBM destacou que a era da experimentação em IA deu lugar a uma implementação sólida e orientada a resultados mensuráveis, o que indica uma mudança de foco para soluções práticas e eficientes.\n> \n> **Relevância e Repercussão:**\n> \n> *   **Crescimento do Setor:** O setor global de agentes de IA deve crescer significativamente nos próximos anos, refletindo a crescente adesão das empresas a essas tecnologias.\n> *   **Aplicações em Diversos Setores:** Os agentes de IA estão sendo aplicados em diversos setores, como saúde, pesquisa científica, automação e segurança no setor financeiro.\n> *   **Transformação na Web:** Há uma expectativa de que os agentes de IA transformem radicalmente a web, com a maior parte do tráfego sendo gerada por eles, não por humanos.\n> \n> Em resumo, o cenário dos agentes de IA está em constante evolução, com lançamentos e novidades que prometem transformar a forma como as empresas operam e como os usuários interagem com a tecnologia. O entusiasmo é grande, mas é importante considerar os desafios e oportunidades para garantir uma implementação bem-sucedida.\n"
          },
          "metadata": {}
        },
        {
          "output_type": "stream",
          "name": "stdout",
          "text": [
            "--------------------------------------------\n",
            "\n",
            "--- Resultado do Agente 2 (Planejador) ---\n",
            "\n"
          ]
        },
        {
          "output_type": "display_data",
          "data": {
            "text/plain": [
              "<IPython.core.display.Markdown object>"
            ],
            "text/markdown": "> Com certeza! Para planejar um conteúdo relevante sobre Agentes de IA com base nos lançamentos recentes, podemos abordar os seguintes pontos:\n> \n> **Sugestões de Tópicos e Pontos Relevantes para Posts:**\n> \n> 1.  **Panorama Geral dos Lançamentos Recentes:**\n> \n>     *   **O que abordar:**\n>         *   Um resumo conciso dos principais lançamentos de agentes de IA da IBM, Microsoft, OpenAI, Amazon, Google, Anthropic e B3.\n>         *   Destaque das funcionalidades e aplicações mais inovadoras de cada agente.\n>         *   Menção de como esses agentes estão sendo integrados em diferentes setores (RH, vendas, segurança, desenvolvimento de software, etc.).\n>     *   **Possíveis títulos:**\n>         *   \"Agentes de IA: Um Raio-X dos Lançamentos Mais Quentes do Momento\"\n>         *   \"As Novas Estrelas da IA: Lançamentos Que Estão Transformando o Mercado\"\n> 2.  **Transformação e Eficiência:**\n> \n>     *   **O que abordar:**\n>         *   Exemplos práticos de como os agentes de IA estão transformando a gestão de processos e otimizando recursos em empresas.\n>         *   Discussão sobre o impacto da automação de tarefas complexas na eficiência operacional.\n>         *   Análise de como a personalização proporcionada pelos agentes de IA melhora a experiência do cliente.\n>     *   **Possíveis títulos:**\n>         *   \"Como os Agentes de IA Estão Revolucionando a Eficiência nas Empresas\"\n>         *   \"Agentes de IA: A Chave para Otimizar Processos e Reduzir Custos\"\n> 3.  **Desafios e Oportunidades na Implementação de Agentes de IA:**\n> \n>     *   **O que abordar:**\n>         *   Discussão sobre as preocupações com transparência, segurança de dados e adaptação das equipes à nova realidade digital.\n>         *   Dicas práticas para superar esses desafios e garantir uma implementação bem-sucedida.\n>         *   Exploração das oportunidades de crescimento e inovação que surgem com a adoção de agentes de IA.\n>     *   **Possíveis títulos:**\n>         *   \"Agentes de IA: Desafios e Oportunidades Que Você Precisa Conhecer\"\n>         *   \"Como Implementar Agentes de IA com Sucesso: Um Guia Prático\"\n> 4.  **O Crescimento do Setor de Agentes de IA:**\n> \n>     *   **O que abordar:**\n>         *   Dados e projeções sobre o crescimento do mercado global de agentes de IA.\n>         *   Exemplos de aplicações bem-sucedidas de agentes de IA em setores como saúde, pesquisa científica, automação e segurança financeira.\n>         *   Análise do impacto dos agentes de IA na transformação da web e na geração de tráfego.\n>     *   **Possíveis títulos:**\n>         *   \"Agentes de IA: Um Mercado em Expansão Que Você Não Pode Ignorar\"\n>         *   \"O Futuro da Web: Como os Agentes de IA Estão Transformando a Internet\"\n> 5.  **IBM e Boomi:**\n> \n>     *   **O que abordar:**\n>         *   Explorar as atualizações do watsonx Orchestrate e do Boomi Agentstudio.\n>         *   Explicar como essas ferramentas facilitam a integração e o gerenciamento de agentes de IA em larga escala.\n>         *   Destacar os benefícios específicos que essas soluções trazem para áreas como RH, vendas e compras.\n>     *   **Possíveis títulos:**\n>         *   \"IBM e Boomi Lideram a Inovação em Agentes de IA: Conheça as Novidades\"\n>         *   \"watsonx Orchestrate e Boomi Agentstudio: A Dupla Imbatível na Gestão de Agentes de IA\"\n> 6.  **Microsoft:**\n> \n>     *   **O que abordar:**\n>         *   Apresentar os novos agentes no Microsoft Security Copilot e os agentes Researcher e Analyst para o Microsoft 365.\n>         *   Demonstrar como esses agentes auxiliam em tarefas de segurança, pesquisa e análise de dados.\n>     *   **Possíveis títulos:**\n>         *   \"Microsoft Acelera na IA: Novos Agentes Para Segurança e Produtividade\"\n>         *   \"Security Copilot e Microsoft 365: A Inteligência Artificial Impulsionando Seus Resultados\"\n> 7.  **OpenAI:**\n> \n>     *   **O que abordar:**\n>         *   Detalhar as ferramentas da OpenAI para a criação de agentes de IA corporativos e o novo agente Codex para desenvolvimento de software.\n>     *   **Possíveis títulos:**\n>         *   \"OpenAI Descomplica a Criação de Agentes de IA Para Empresas\"\n>         *   \"Codex: O Agente de IA da OpenAI Que Vai Revolucionar o Desenvolvimento de Software\"\n> 8.  **B3 (Brasil):**\n> \n>     *   **O que abordar:**\n>         *   Apresentar os planos da B3 de massificar o uso de agentes de IA em seus produtos e serviços.\n>         *   Explicar como essa iniciativa visa transformar a vida dos clientes e facilitar o dia a dia dos colaboradores.\n>     *   **Possíveis títulos:**\n>         *   \"B3 Aposta Forte em Agentes de IA Para Transformar o Mercado Financeiro\"\n>         *   \"Inovação na Bolsa: B3 Vai Massificar o Uso de Agentes de IA\"\n> \n> **Sugestão de Tema Mais Relevante:**\n> \n> Considerando o panorama atual, o tema mais relevante para um post seria:\n> \n> **\"Agentes de IA: Desafios e Oportunidades Que Você Precisa Conhecer\"**\n> \n> Este tema permite abordar tanto o entusiasmo em torno dos agentes de IA quanto as preocupações com transparência, segurança de dados e adaptação das equipes. Além disso, oferece a oportunidade de fornecer dicas práticas para superar os desafios e explorar as oportunidades de crescimento e inovação.\n> \n> **Plano de Assuntos para o Post:**\n> \n> 1.  **Introdução:**\n>     *   Definição concisa de agentes de IA e sua importância crescente no mercado.\n>     *   Contextualização do entusiasmo em torno dos agentes de IA e sua capacidade de transformar processos e otimizar recursos.\n> 2.  **Desafios na Implementação de Agentes de IA:**\n>     *   Transparência nos processos: como garantir que os agentes de IA tomem decisões justas e explicáveis.\n>     *   Segurança de dados: como proteger as informações confidenciais ao utilizar agentes de IA.\n>     *   Adaptação das equipes: como preparar os colaboradores para trabalhar em conjunto com agentes de IA e aproveitar ao máximo seu potencial.\n> 3.  **Oportunidades de Crescimento e Inovação:**\n>     *   Automação de tarefas complexas: como os agentes de IA podem liberar os colaboradores para atividades mais estratégicas.\n>     *   Personalização da experiência do cliente: como os agentes de IA podem oferecer um atendimento mais individualizado e eficiente.\n>     *   Otimização de recursos: como os agentes de IA podem ajudar as empresas a reduzir custos e aumentar a produtividade.\n> 4.  **Dicas Práticas para uma Implementação Bem-Sucedida:**\n>     *   Definir objetivos claros e mensuráveis.\n>     *   Escolher os agentes de IA certos para as necessidades da empresa.\n>     *   Investir em treinamento e capacitação das equipes.\n>     *   Monitorar e avaliar os resultados da implementação.\n> 5.  **Conclusão:**\n>     *   Reforçar a importância de considerar tanto os desafios quanto as oportunidades ao adotar agentes de IA.\n>     *   Incentivar os leitores a explorar o potencial dos agentes de IA em seus próprios negócios.\n> \n> Com este plano de assuntos, você poderá criar um post informativo e envolvente que aborda os principais aspectos dos agentes de IA e oferece insights valiosos para seus leitores.\n> \n"
          },
          "metadata": {}
        },
        {
          "output_type": "stream",
          "name": "stdout",
          "text": [
            "--------------------------------------------\n",
            "\n",
            "--- Resultado do Agente 3 (Redator) ---\n",
            "\n"
          ]
        },
        {
          "output_type": "display_data",
          "data": {
            "text/plain": [
              "<IPython.core.display.Markdown object>"
            ],
            "text/markdown": "> 🚀 Agentes de IA: a revolução chegou, mas... calma! 🤖\n> \n> A Inteligência Artificial está transformando o mercado, e os agentes de IA são a prova disso! 🤩 Mas nem tudo são flores, viu? 🤔\n> \n> Neste post, vamos te mostrar os desafios e oportunidades que você precisa conhecer antes de embarcar nessa jornada:\n> \n> ⚠️ Desafios:\n> \n> *   Transparência: Como garantir que a IA tome decisões justas?\n> *   Segurança: Seus dados estão protegidos?\n> *   Adaptação: Sua equipe está preparada para essa mudança?\n> \n> ✨ Oportunidades:\n> \n> *   Automação: Deixe as tarefas complexas com a IA e foque no que importa!\n> *   Personalização: Ofereça uma experiência única para seus clientes!\n> *   Otimização: Reduza custos e aumente a produtividade!\n> \n> 💡 Dica de ouro: Defina seus objetivos, escolha os agentes certos, invista em treinamento e monitore os resultados! 😉\n> \n> E aí, preparado para o futuro? Conta pra gente nos comentários! 👇\n> \n> #InteligenciaArtificial #AgentesDeIA #Inovacao #Alura\n> \n"
          },
          "metadata": {}
        },
        {
          "output_type": "stream",
          "name": "stdout",
          "text": [
            "--------------------------------------------\n",
            "\n",
            "--- Resultado do Agente 2 (Revisor) ---\n",
            "\n"
          ]
        },
        {
          "output_type": "display_data",
          "data": {
            "text/plain": [
              "<IPython.core.display.Markdown object>"
            ],
            "text/markdown": "> O rascunho está bom, mas podemos deixá-lo ainda mais interessante e engajador para o público do Instagram, com foco em jovens de 18 a 30 anos. Aqui estão algumas sugestões:\n> \n> *   **Tom:** O tom já está bom, mas podemos adicionar um toque mais divertido e menos formal.\n> *   **Emojis:** Usar mais emojis para criar uma conexão visual mais forte.\n> *   **Hashtags:** Adicionar hashtags mais específicas e populares.\n> *   **Call to action:** Tornar o call to action mais direto e convidativo.\n> *   **Estrutura:** Quebrar o texto em parágrafos menores para facilitar a leitura no mobile.\n> \n> **Sugestão de revisão:**\n> \n> 🚀 AI Agents: O Futuro Chegou (Mas Relaxa!) 🤖\n> \n> A Inteligência Artificial tá bombando e os Agentes de IA são a prova disso! 🤩 Mas, se liga, nem tudo é hype! 🤔\n> \n> Nesse post, te mostramos os perrengues e as oportunidades que você PRECISA conhecer antes de embarcar nessa!\n> \n> ⚠️ Sinistros:\n> \n> *   Transparência: Como garantir que a IA não vai te trollar nas decisões?\n> *   Segurança: Seus dados estão safe? 🔒\n> *   Adaptação: A galera tá preparada pra essa mudança?\n> \n> ✨ DEMAIS:\n> \n> *   Automação: Deixe as tarefas chatas com a IA e foque no que importa! 😎\n> *   Personalização: Experiência ÚNICA pros seus clientes! ✨\n> *   Otimização: Menos custos, MAIS produtividade! 💸\n> \n> 💡 A dica é: tenha seus objetivos claros, escolha os agentes certos, invista em treinamento e fique de olho nos resultados! 😉\n> \n> E aí, preparado(a) pro futuro? Deixe seu comentário! 👇\n> \n> #AI #InteligenciaArtificial #AgentesDeIA #Inovacao #Tech #Alura #FuturoDoTrabalho #Tecnologia\n"
          },
          "metadata": {}
        },
        {
          "output_type": "stream",
          "name": "stdout",
          "text": [
            "--------------------------------------------\n"
          ]
        }
      ]
    }
  ]
}